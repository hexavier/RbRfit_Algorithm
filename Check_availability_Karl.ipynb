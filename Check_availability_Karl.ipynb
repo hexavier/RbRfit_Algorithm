{
 "cells": [
  {
   "cell_type": "markdown",
   "metadata": {},
   "source": [
    "# Check availability data"
   ]
  },
  {
   "cell_type": "code",
   "execution_count": 1,
   "metadata": {
    "collapsed": true
   },
   "outputs": [],
   "source": [
    "#Upload packages\n",
    "import pandas as pd\n",
    "import cobra\n",
    "import alloregfit as arf"
   ]
  },
  {
   "cell_type": "markdown",
   "metadata": {},
   "source": [
    "## Upload data and metabolic model"
   ]
  },
  {
   "cell_type": "code",
   "execution_count": 2,
   "metadata": {
    "collapsed": false
   },
   "outputs": [
    {
     "data": {
      "text/html": [
       "\n",
       "        <table>\n",
       "            <tr>\n",
       "                <td><strong>Name</strong></td>\n",
       "                <td>iJO1366</td>\n",
       "            </tr><tr>\n",
       "                <td><strong>Memory address</strong></td>\n",
       "                <td>0x01ca6af44f98</td>\n",
       "            </tr><tr>\n",
       "                <td><strong>Number of metabolites</strong></td>\n",
       "                <td>1805</td>\n",
       "            </tr><tr>\n",
       "                <td><strong>Number of reactions</strong></td>\n",
       "                <td>2583</td>\n",
       "            </tr><tr>\n",
       "                <td><strong>Objective expression</strong></td>\n",
       "                <td>-1.0*BIOMASS_Ec_iJO1366_core_53p95M_reverse_5c8b1 + 1.0*BIOMASS_Ec_iJO1366_core_53p95M</td>\n",
       "            </tr><tr>\n",
       "                <td><strong>Compartments</strong></td>\n",
       "                <td>c, e, p</td>\n",
       "            </tr>\n",
       "          </table>"
      ],
      "text/plain": [
       "<Model iJO1366 at 0x1ca6af44f98>"
      ]
     },
     "execution_count": 2,
     "metadata": {},
     "output_type": "execute_result"
    }
   ],
   "source": [
    "data_dir = \"C:/Users/user/polybox/MASTER/THESIS/3_Karl_data/\"\n",
    "model = cobra.io.load_matlab_model(data_dir+\"iJO1366.mat\")\n",
    "fluxes = pd.read_excel(data_dir+\"fluxes_C13.xlsx\",index_col=\"name\")\n",
    "metabolites = pd.read_excel(data_dir+\"merged_metabolites.xlsx\",index_col=\"name\")\n",
    "proteins = pd.read_excel(data_dir+\"proteome_noNaN.xlsx\",index_col=\"name\")\n",
    "proteins2 = pd.read_excel(data_dir+\"proteome_bnames.xlsx\",index_col=\"name\")\n",
    "mapping = pd.read_table(data_dir+\"ECOLI_83333_idmapping.dat\",header=None)\n",
    "model"
   ]
  },
  {
   "cell_type": "markdown",
   "metadata": {
    "collapsed": true
   },
   "source": [
    "## Check data availability for every reaction in model"
   ]
  },
  {
   "cell_type": "markdown",
   "metadata": {},
   "source": [
    "Define the function that inputs the data and analyzes how many reactions have enough data:"
   ]
  },
  {
   "cell_type": "code",
   "execution_count": 3,
   "metadata": {
    "collapsed": false
   },
   "outputs": [],
   "source": [
    "def enough_data(model,fluxes,proteins,metabolites):\n",
    "    for i in range(len(model.reactions)):\n",
    "        rxn = model.reactions[i]\n",
    "        substrates = rxn.reactants # improvement: consider fluxes\n",
    "        genes = list(rxn.genes) # use gene_reaction_rule to consider and/or\n",
    "\n",
    "        # Check fluxes\n",
    "        flux_bool = False\n",
    "        if any(rxn.id in s for s in list(fluxes.index.values)):\n",
    "            flux_bool = True\n",
    "\n",
    "        # Check proteins\n",
    "        prot_bool = False\n",
    "        for j in range(len(genes)):\n",
    "            prot = mapping[mapping[2]==genes[j].id][0].reset_index()\n",
    "            if prot.empty==0:\n",
    "                gene = list(mapping[(mapping[0]==prot[0][0]) & (mapping[1]=='Gene_Name')][2])\n",
    "                if any(gene[0] in s for s in list(proteins.index.values)):\n",
    "                    prot_bool = True\n",
    "                    break\n",
    "\n",
    "        # Check substrates\n",
    "        met_bool = False\n",
    "        for j in range(len(substrates)):\n",
    "            if any(substrates[j].id[:-2] in s for s in ['h','h2o'])==0:\n",
    "                if any(substrates[j].id[:-2] in s for s in list(metabolites.index.values))==0:\n",
    "                    break\n",
    "        else:\n",
    "            met_bool = True\n",
    "        if flux_bool and met_bool and prot_bool:\n",
    "            print(\"Enough data for %s (%s): %s\" % (rxn.name, rxn.id, rxn.reaction))\n",
    "    "
   ]
  },
  {
   "cell_type": "code",
   "execution_count": 107,
   "metadata": {
    "collapsed": true
   },
   "outputs": [],
   "source": [
    "def enough_data_bn(model,fluxes,proteins,metabolites):\n",
    "    for i in range(len(model.reactions)):\n",
    "        rxn = model.reactions[i]\n",
    "        substrates = rxn.reactants # improvement: consider fluxes\n",
    "        genes = list(rxn.genes) # use gene_reaction_rule to consider and/or\n",
    "\n",
    "        # Check fluxes\n",
    "        flux_bool = False\n",
    "        if any(rxn.id in s for s in list(fluxes.index.values)):\n",
    "            flux_bool = True\n",
    "\n",
    "        # Check proteins\n",
    "        prot_bool = False\n",
    "        for j in range(len(genes)):\n",
    "            if any(genes[j].id in s for s in list(proteins.index.values)):\n",
    "                prot_bool = True\n",
    "                break\n",
    "\n",
    "        # Check substrates\n",
    "        met_bool = False\n",
    "        for j in range(len(substrates)):\n",
    "            if any(substrates[j].id[:-2] in s for s in ['h','h2o'])==0:\n",
    "                if any(substrates[j].id[:-2] in s for s in list(metabolites.index.values))==0:\n",
    "                    break\n",
    "        else:\n",
    "            met_bool = True\n",
    "        if flux_bool and met_bool and prot_bool:\n",
    "            print(\"Enough data for %s (%s): %s\" % (rxn.name, rxn.id, rxn.reaction))"
   ]
  },
  {
   "cell_type": "markdown",
   "metadata": {},
   "source": [
    "Apply function to our model and Gerosa dataset. Be aware that metabolites, fluxes and proteins need to share same names as in the model in order to be correctly interpreted by the function."
   ]
  },
  {
   "cell_type": "code",
   "execution_count": 4,
   "metadata": {
    "collapsed": false
   },
   "outputs": [
    {
     "name": "stdout",
     "output_type": "stream",
     "text": [
      "Enough data for Fructose-bisphosphate aldolase (FBA): fdp_c <=> dhap_c + g3p_c\n",
      "Enough data for Fumarase (FUM): fum_c + h2o_c <=> mal__L_c\n",
      "Enough data for Glucose 6-phosphate dehydrogenase (G6PDH2r): g6p_c + nadp_c <=> 6pgl_c + h_c + nadph_c\n",
      "Enough data for Glyceraldehyde-3-phosphate dehydrogenase (GAPD): g3p_c + nad_c + pi_c <=> 13dpg_c + h_c + nadh_c\n",
      "Enough data for Phosphogluconate dehydrogenase (GND): 6pgc_c + nadp_c --> co2_c + nadph_c + ru5p__D_c\n",
      "Enough data for Malate dehydrogenase (MDH): mal__L_c + nad_c <=> h_c + nadh_c + oaa_c\n",
      "Enough data for NAD transhydrogenase (NADTRHD): nad_c + nadph_c --> nadh_c + nadp_c\n",
      "Enough data for Pyruvate dehydrogenase (PDH): coa_c + nad_c + pyr_c --> accoa_c + co2_c + nadh_c\n",
      "Enough data for Phosphofructokinase (PFK): atp_c + f6p_c --> adp_c + fdp_c + h_c\n",
      "Enough data for Glucose-6-phosphate isomerase (PGI): g6p_c <=> f6p_c\n",
      "Enough data for Phosphoglycerate kinase (PGK): 3pg_c + atp_c <=> 13dpg_c + adp_c\n",
      "Enough data for 6-phosphogluconolactonase (PGL): 6pgl_c + h2o_c --> 6pgc_c + h_c\n",
      "Enough data for Pyruvate kinase (PYK): adp_c + h_c + pep_c --> atp_c + pyr_c\n",
      "Enough data for Transaldolase (TALA): g3p_c + s7p_c <=> e4p_c + f6p_c\n",
      "Enough data for Transketolase (TKT1): r5p_c + xu5p__D_c <=> g3p_c + s7p_c\n",
      "Enough data for Transketolase (TKT2): e4p_c + xu5p__D_c <=> f6p_c + g3p_c\n",
      "Enough data for Triose-phosphate isomerase (TPI): dhap_c <=> g3p_c\n"
     ]
    }
   ],
   "source": [
    "enough_data(model,fluxes,proteins,metabolites)"
   ]
  },
  {
   "cell_type": "code",
   "execution_count": 109,
   "metadata": {
    "collapsed": false
   },
   "outputs": [
    {
     "name": "stdout",
     "output_type": "stream",
     "text": [
      "Enough data for Fructose-bisphosphate aldolase (FBA): fdp_c <=> dhap_c + g3p_c\n",
      "Enough data for Fumarase (FUM): fum_c + h2o_c <=> mal__L_c\n",
      "Enough data for Glucose 6-phosphate dehydrogenase (G6PDH2r): g6p_c + nadp_c <=> 6pgl_c + h_c + nadph_c\n",
      "Enough data for Phosphogluconate dehydrogenase (GND): 6pgc_c + nadp_c --> co2_c + nadph_c + ru5p__D_c\n",
      "Enough data for Malate dehydrogenase (MDH): mal__L_c + nad_c <=> h_c + nadh_c + oaa_c\n",
      "Enough data for NAD transhydrogenase (NADTRHD): nad_c + nadph_c --> nadh_c + nadp_c\n",
      "Enough data for Phosphofructokinase (PFK): atp_c + f6p_c --> adp_c + fdp_c + h_c\n",
      "Enough data for Glucose-6-phosphate isomerase (PGI): g6p_c <=> f6p_c\n",
      "Enough data for Pyruvate kinase (PYK): adp_c + h_c + pep_c --> atp_c + pyr_c\n",
      "Enough data for Transketolase (TKT1): r5p_c + xu5p__D_c <=> g3p_c + s7p_c\n",
      "Enough data for Triose-phosphate isomerase (TPI): dhap_c <=> g3p_c\n"
     ]
    }
   ],
   "source": [
    "enough_data_bn(model,fluxes,proteins2,metabolites)"
   ]
  },
  {
   "cell_type": "markdown",
   "metadata": {
    "collapsed": false
   },
   "source": [
    "Create dataframe including what is the limitation data factor for each reaction:"
   ]
  },
  {
   "cell_type": "code",
   "execution_count": 104,
   "metadata": {
    "collapsed": false
   },
   "outputs": [],
   "source": [
    "Name = []\n",
    "Reaction = [] \n",
    "is_flux = [False] * len(model.reactions)\n",
    "is_metab = [False] * len(model.reactions)\n",
    "is_prot = [False] * len(model.reactions)\n",
    "\n",
    "for i in range(len(model.reactions)):\n",
    "    rxn = model.reactions[i]\n",
    "    substrates = rxn.reactants # improvement: consider fluxes\n",
    "    genes = list(rxn.genes) # use gene_reaction_rule to consider and/or\n",
    "\n",
    "    # Check fluxes\n",
    "    flux_bool = False\n",
    "    if any(rxn.id in s for s in list(fluxes.index.values)):\n",
    "        flux_bool = True\n",
    "\n",
    "    # Check proteins\n",
    "    prot_bool = False\n",
    "    for j in range(len(genes)):\n",
    "        prot = mapping[mapping[2]==genes[j].id][0].reset_index()\n",
    "        if prot.empty==0:\n",
    "            gene = list(mapping[(mapping[0]==prot[0][0]) & (mapping[1]=='Gene_Name')][2])\n",
    "            if any(gene[0] in s for s in list(proteins.index.values)):\n",
    "                prot_bool = True\n",
    "                break\n",
    "\n",
    "    # Check substrates\n",
    "    met_bool = False\n",
    "    for j in range(len(substrates)):\n",
    "        if any(substrates[j].id[:-2] in s for s in ['h','h2o'])==0:\n",
    "            if any(substrates[j].id[:-2] in s for s in list(metabolites.index.values))==0:\n",
    "                break\n",
    "    else:\n",
    "        met_bool = True\n",
    "    \n",
    "    Name.append(rxn.name)\n",
    "    Reaction.append(rxn.reaction)\n",
    "    is_flux[i] = flux_bool\n",
    "    is_metab[i] = met_bool\n",
    "    is_prot[i] = prot_bool\n",
    "\n",
    "availability = {'Name':Name, 'Reaction':Reaction, 'is_flux':is_flux, 'is_metab':is_metab, 'is_prot':is_prot}\n",
    "availability = pd.DataFrame(availability)\n",
    "availability.to_excel(data_dir+\"availability.xlsx\")"
   ]
  },
  {
   "cell_type": "code",
   "execution_count": null,
   "metadata": {
    "collapsed": false
   },
   "outputs": [],
   "source": []
  }
 ],
 "metadata": {
  "kernelspec": {
   "display_name": "Python 3",
   "language": "python",
   "name": "python3"
  },
  "language_info": {
   "codemirror_mode": {
    "name": "ipython",
    "version": 3
   },
   "file_extension": ".py",
   "mimetype": "text/x-python",
   "name": "python",
   "nbconvert_exporter": "python",
   "pygments_lexer": "ipython3",
   "version": "3.6.0"
  }
 },
 "nbformat": 4,
 "nbformat_minor": 2
}
