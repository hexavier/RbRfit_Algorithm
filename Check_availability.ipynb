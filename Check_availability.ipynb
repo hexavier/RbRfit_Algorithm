{
 "cells": [
  {
   "cell_type": "markdown",
   "metadata": {},
   "source": [
    "# Check availability data"
   ]
  },
  {
   "cell_type": "code",
   "execution_count": 1,
   "metadata": {
    "collapsed": true
   },
   "outputs": [],
   "source": [
    "#Upload packages\n",
    "import pandas as pd\n",
    "import cobra"
   ]
  },
  {
   "cell_type": "markdown",
   "metadata": {},
   "source": [
    "## Upload data and metabolic model"
   ]
  },
  {
   "cell_type": "code",
   "execution_count": 2,
   "metadata": {
    "collapsed": false
   },
   "outputs": [
    {
     "data": {
      "text/html": [
       "\n",
       "        <table>\n",
       "            <tr>\n",
       "                <td><strong>Name</strong></td>\n",
       "                <td>Ecoli_core_model</td>\n",
       "            </tr><tr>\n",
       "                <td><strong>Memory address</strong></td>\n",
       "                <td>0x022be7e46b38</td>\n",
       "            </tr><tr>\n",
       "                <td><strong>Number of metabolites</strong></td>\n",
       "                <td>92</td>\n",
       "            </tr><tr>\n",
       "                <td><strong>Number of reactions</strong></td>\n",
       "                <td>95</td>\n",
       "            </tr><tr>\n",
       "                <td><strong>Objective expression</strong></td>\n",
       "                <td>-1.0*Biomass_Ecoli_core_w_GAM_reverse_1a29b + 1.0*Biomass_Ecoli_core_w_GAM</td>\n",
       "            </tr><tr>\n",
       "                <td><strong>Compartments</strong></td>\n",
       "                <td>Cytoplasm, Extracellular</td>\n",
       "            </tr>\n",
       "          </table>"
      ],
      "text/plain": [
       "<Model Ecoli_core_model at 0x22be7e46b38>"
      ]
     },
     "execution_count": 2,
     "metadata": {},
     "output_type": "execute_result"
    }
   ],
   "source": [
    "data_dir = \"C:/Users/user/polybox/MASTER/THESIS/1_availability_data/\"\n",
    "model = cobra.io.sbml.create_cobra_model_from_sbml_file(data_dir+\"ecoli_core_model.xml\")\n",
    "#model = pd.read_excel(data_dir+\"ecoli_core_model.xls\",index_col=\"METABOLITE\")\n",
    "fluxes = pd.read_excel(data_dir+\"fluxes.xlsx\",index_col=\"Flux\")\n",
    "metabolites = pd.read_excel(data_dir+\"metabolites.xlsx\",index_col=\"name_short\")\n",
    "proteins = pd.read_excel(data_dir+\"proteins.xlsx\",index_col=\"Promoter\")\n",
    "mapping = pd.read_table(data_dir+\"ECOLI_83333_idmapping.dat\",header=None)\n",
    "model"
   ]
  },
  {
   "cell_type": "markdown",
   "metadata": {
    "collapsed": true
   },
   "source": [
    "## Check data availability for every reaction in model"
   ]
  },
  {
   "cell_type": "markdown",
   "metadata": {},
   "source": [
    "Define the function that inputs the data and analyzes how many reactions have enough data:"
   ]
  },
  {
   "cell_type": "code",
   "execution_count": 3,
   "metadata": {
    "collapsed": false
   },
   "outputs": [],
   "source": [
    "def enough_data(model,fluxes,proteins,metabolites):\n",
    "    for i in range(len(model.reactions)):\n",
    "        rxn = model.reactions[i]\n",
    "        #substrates = model2[model2[rxn.id]<0][rxn.id].index.values\n",
    "        #metab = rxn.metabolites\n",
    "        substrates = rxn.reactants # improvement: consider fluxes\n",
    "        genes = list(rxn.genes) # use gene_reaction_rule to consider and/or\n",
    "\n",
    "        # Check fluxes\n",
    "        flux_bool = False\n",
    "        if any(rxn.id in s for s in list(fluxes.index.values)):\n",
    "            flux_bool = True\n",
    "\n",
    "        # Check proteins\n",
    "        prot_bool = False\n",
    "        for j in range(len(genes)):\n",
    "            prot = mapping[mapping[2]==genes[j].id][0].reset_index()\n",
    "            if prot.empty==0:\n",
    "                gene = list(mapping[(mapping[0]==prot[0][0]) & (mapping[1]=='Gene_Name')][2])\n",
    "                if any(gene[0] in s for s in list(proteins.index.values)):\n",
    "                    prot_bool = True\n",
    "                    break\n",
    "\n",
    "        # Check substrates\n",
    "        met_bool = False\n",
    "        for j in range(len(substrates)):\n",
    "            if any(substrates[j].id[:-2] in s for s in list(metabolites.index.values))==0:\n",
    "                break\n",
    "        else:\n",
    "            met_bool = True\n",
    "        if flux_bool and met_bool and prot_bool:\n",
    "            print(\"Enough data for %s (%s): %s\" % (rxn.name, rxn.id, rxn.reaction))\n",
    "    "
   ]
  },
  {
   "cell_type": "markdown",
   "metadata": {},
   "source": [
    "Apply function to our model and Gerosa dataset. Be aware that metabolites, fluxes and proteins need to share same names as in the model in order to be correctly interpreted by the function."
   ]
  },
  {
   "cell_type": "code",
   "execution_count": 4,
   "metadata": {
    "collapsed": false
   },
   "outputs": [
    {
     "name": "stdout",
     "output_type": "stream",
     "text": [
      "Enough data for phosphogluconate dehydrogenase (GND): 6pgc_c + nadp_c --> co2_c + nadph_c + ru5p_D_c\n",
      "Enough data for malate dehydrogenase (MDH): mal_L_c + nad_c <=> h_c + nadh_c + oaa_c\n",
      "Enough data for phosphofructokinase (PFK): atp_c + f6p_c --> adp_c + fdp_c + h_c\n",
      "Enough data for glucose-6-phosphate isomerase (PGI): g6p_c <=> f6p_c\n",
      "Enough data for pyruvate kinase (PYK): adp_c + h_c + pep_c --> atp_c + pyr_c\n",
      "Enough data for ribose-5-phosphate isomerase (RPI): r5p_c <=> ru5p_D_c\n"
     ]
    }
   ],
   "source": [
    "enough_data(model,fluxes,proteins,metabolites)"
   ]
  },
  {
   "cell_type": "markdown",
   "metadata": {
    "collapsed": false
   },
   "source": [
    "Create dataframe including what is the limitation data factor for each reaction:"
   ]
  },
  {
   "cell_type": "code",
   "execution_count": 18,
   "metadata": {
    "collapsed": false
   },
   "outputs": [],
   "source": [
    "Name = []\n",
    "Reaction = [] \n",
    "is_flux = [False] * len(model.reactions)\n",
    "is_metab = [False] * len(model.reactions)\n",
    "is_prot = [False] * len(model.reactions)\n",
    "\n",
    "for i in range(len(model.reactions)):\n",
    "    rxn = model.reactions[i]\n",
    "    substrates = rxn.reactants # improvement: consider fluxes\n",
    "    genes = list(rxn.genes) # use gene_reaction_rule to consider and/or\n",
    "\n",
    "    # Check fluxes\n",
    "    flux_bool = False\n",
    "    if any(rxn.id in s for s in list(fluxes.index.values)):\n",
    "        flux_bool = True\n",
    "\n",
    "    # Check proteins\n",
    "    prot_bool = False\n",
    "    for j in range(len(genes)):\n",
    "        prot = mapping[mapping[2]==genes[j].id][0].reset_index()\n",
    "        if prot.empty==0:\n",
    "            gene = list(mapping[(mapping[0]==prot[0][0]) & (mapping[1]=='Gene_Name')][2])\n",
    "            if any(gene[0] in s for s in list(proteins.index.values)):\n",
    "                prot_bool = True\n",
    "                break\n",
    "\n",
    "    # Check substrates\n",
    "    met_bool = False\n",
    "    for j in range(len(substrates)):\n",
    "        if any(substrates[j].id[:-2] in s for s in list(metabolites.index.values))==0:\n",
    "            break\n",
    "    else:\n",
    "        met_bool = True\n",
    "    \n",
    "    Name.append(rxn.name)\n",
    "    Reaction.append(rxn.reaction)\n",
    "    is_flux[i] = flux_bool\n",
    "    is_metab[i] = met_bool\n",
    "    is_prot[i] = prot_bool\n",
    "\n",
    "availability = {'Name':Name, 'Reaction':Reaction, 'is_flux':is_flux, 'is_metab':is_metab, 'is_prot':is_prot}\n",
    "availability = pd.DataFrame(availability)\n",
    "availability.to_excel(data_dir+\"availability.xlsx\")"
   ]
  },
  {
   "cell_type": "code",
   "execution_count": null,
   "metadata": {
    "collapsed": true
   },
   "outputs": [],
   "source": []
  }
 ],
 "metadata": {
  "kernelspec": {
   "display_name": "Python 3",
   "language": "python",
   "name": "python3"
  },
  "language_info": {
   "codemirror_mode": {
    "name": "ipython",
    "version": 3
   },
   "file_extension": ".py",
   "mimetype": "text/x-python",
   "name": "python",
   "nbconvert_exporter": "python",
   "pygments_lexer": "ipython3",
   "version": "3.6.0"
  }
 },
 "nbformat": 4,
 "nbformat_minor": 2
}
