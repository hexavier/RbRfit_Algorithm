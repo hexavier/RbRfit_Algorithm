{
 "cells": [
  {
   "cell_type": "markdown",
   "metadata": {},
   "source": [
    "# Run new_simmer"
   ]
  },
  {
   "cell_type": "code",
   "execution_count": 235,
   "metadata": {
    "collapsed": true
   },
   "outputs": [],
   "source": [
    "import pandas as pd\n",
    "import cobra\n",
    "import new_simmer as sim"
   ]
  },
  {
   "cell_type": "markdown",
   "metadata": {},
   "source": [
    "## Upload data and metabolic model"
   ]
  },
  {
   "cell_type": "code",
   "execution_count": 148,
   "metadata": {
    "collapsed": false
   },
   "outputs": [
    {
     "data": {
      "text/html": [
       "\n",
       "        <table>\n",
       "            <tr>\n",
       "                <td><strong>Name</strong></td>\n",
       "                <td>Ecoli_core_model</td>\n",
       "            </tr><tr>\n",
       "                <td><strong>Memory address</strong></td>\n",
       "                <td>0x01a486b6c588</td>\n",
       "            </tr><tr>\n",
       "                <td><strong>Number of metabolites</strong></td>\n",
       "                <td>92</td>\n",
       "            </tr><tr>\n",
       "                <td><strong>Number of reactions</strong></td>\n",
       "                <td>95</td>\n",
       "            </tr><tr>\n",
       "                <td><strong>Objective expression</strong></td>\n",
       "                <td>-1.0*Biomass_Ecoli_core_w_GAM_reverse_1a29b + 1.0*Biomass_Ecoli_core_w_GAM</td>\n",
       "            </tr><tr>\n",
       "                <td><strong>Compartments</strong></td>\n",
       "                <td>Cytoplasm, Extracellular</td>\n",
       "            </tr>\n",
       "          </table>"
      ],
      "text/plain": [
       "<Model Ecoli_core_model at 0x1a486b6c588>"
      ]
     },
     "execution_count": 148,
     "metadata": {},
     "output_type": "execute_result"
    }
   ],
   "source": [
    "data_dir = \"C:/Users/user/polybox/MASTER/THESIS/2_new_simmer_test/\"\n",
    "model = cobra.io.sbml.create_cobra_model_from_sbml_file(data_dir+\"ecoli_core_model.xml\")\n",
    "#model = pd.read_excel(data_dir+\"ecoli_core_model.xls\",index_col=\"METABOLITE\")\n",
    "fluxes = pd.read_excel(data_dir+\"fluxes.xlsx\",index_col=\"name\")\n",
    "metabolites = pd.read_excel(data_dir+\"metabolites.xlsx\",index_col=\"name\")\n",
    "proteins = pd.read_excel(data_dir+\"proteins.xlsx\",index_col=\"name\")\n",
    "mapping = pd.read_table(data_dir+\"ECOLI_83333_idmapping.dat\",header=None)\n",
    "rxn_id = open(data_dir+'reactions.txt').read().splitlines()\n",
    "model"
   ]
  },
  {
   "cell_type": "code",
   "execution_count": 149,
   "metadata": {
    "collapsed": false
   },
   "outputs": [
    {
     "ename": "TypeError",
     "evalue": "list indices must be integers or slices, not list",
     "output_type": "error",
     "traceback": [
      "\u001b[0;31m---------------------------------------------------------------------------\u001b[0m",
      "\u001b[0;31mTypeError\u001b[0m                                 Traceback (most recent call last)",
      "\u001b[0;32m<ipython-input-149-c11234808457>\u001b[0m in \u001b[0;36m<module>\u001b[0;34m()\u001b[0m\n\u001b[1;32m      4\u001b[0m \u001b[1;31m#proteins.head()\u001b[0m\u001b[1;33m\u001b[0m\u001b[1;33m\u001b[0m\u001b[0m\n\u001b[1;32m      5\u001b[0m \u001b[1;31m#define_models(reactions, model, candidates, flux, prot, metab)\u001b[0m\u001b[1;33m\u001b[0m\u001b[1;33m\u001b[0m\u001b[0m\n\u001b[0;32m----> 6\u001b[0;31m \u001b[0mreaction\u001b[0m \u001b[1;33m=\u001b[0m \u001b[0mmodel\u001b[0m\u001b[1;33m.\u001b[0m\u001b[0mreactions\u001b[0m\u001b[1;33m[\u001b[0m\u001b[0mrxn_id\u001b[0m\u001b[1;33m]\u001b[0m\u001b[1;33m\u001b[0m\u001b[0m\n\u001b[0m\u001b[1;32m      7\u001b[0m \u001b[0msummary\u001b[0m \u001b[1;33m=\u001b[0m \u001b[0mpd\u001b[0m\u001b[1;33m.\u001b[0m\u001b[0mDataFrame\u001b[0m\u001b[1;33m(\u001b[0m\u001b[1;33m{\u001b[0m\u001b[1;34m'idx'\u001b[0m\u001b[1;33m:\u001b[0m\u001b[0mrange\u001b[0m\u001b[1;33m(\u001b[0m\u001b[0mlen\u001b[0m\u001b[1;33m(\u001b[0m\u001b[0mreactions\u001b[0m\u001b[1;33m)\u001b[0m\u001b[1;33m)\u001b[0m\u001b[1;33m,\u001b[0m\u001b[1;34m'rxn_id'\u001b[0m\u001b[1;33m:\u001b[0m\u001b[0mrxn_id\u001b[0m\u001b[1;33m}\u001b[0m\u001b[1;33m)\u001b[0m\u001b[1;33m\u001b[0m\u001b[0m\n\u001b[1;32m      8\u001b[0m \u001b[0msummary\u001b[0m\u001b[1;33m.\u001b[0m\u001b[0mset_index\u001b[0m\u001b[1;33m(\u001b[0m\u001b[1;34m'idx'\u001b[0m\u001b[1;33m)\u001b[0m\u001b[1;33m\u001b[0m\u001b[0m\n",
      "\u001b[0;32mC:\\Users\\user\\Anaconda3\\lib\\site-packages\\cobra\\core\\dictlist.py\u001b[0m in \u001b[0;36m__getitem__\u001b[0;34m(self, i)\u001b[0m\n\u001b[1;32m    399\u001b[0m                 \u001b[1;32mreturn\u001b[0m \u001b[0mselection\u001b[0m\u001b[1;33m\u001b[0m\u001b[0m\n\u001b[1;32m    400\u001b[0m             \u001b[1;32melse\u001b[0m\u001b[1;33m:\u001b[0m\u001b[1;33m\u001b[0m\u001b[0m\n\u001b[0;32m--> 401\u001b[0;31m                 \u001b[1;32mreturn\u001b[0m \u001b[0mself\u001b[0m\u001b[1;33m.\u001b[0m\u001b[0m__class__\u001b[0m\u001b[1;33m(\u001b[0m\u001b[0mlist\u001b[0m\u001b[1;33m.\u001b[0m\u001b[0m__getitem__\u001b[0m\u001b[1;33m(\u001b[0m\u001b[0mself\u001b[0m\u001b[1;33m,\u001b[0m \u001b[0mi\u001b[0m\u001b[1;33m)\u001b[0m\u001b[1;33m)\u001b[0m\u001b[1;33m\u001b[0m\u001b[0m\n\u001b[0m\u001b[1;32m    402\u001b[0m         \u001b[1;32melse\u001b[0m\u001b[1;33m:\u001b[0m\u001b[1;33m\u001b[0m\u001b[0m\n\u001b[1;32m    403\u001b[0m             \u001b[1;32mreturn\u001b[0m \u001b[0mlist\u001b[0m\u001b[1;33m.\u001b[0m\u001b[0m__getitem__\u001b[0m\u001b[1;33m(\u001b[0m\u001b[0mself\u001b[0m\u001b[1;33m,\u001b[0m \u001b[0mi\u001b[0m\u001b[1;33m)\u001b[0m\u001b[1;33m\u001b[0m\u001b[0m\n",
      "\u001b[0;31mTypeError\u001b[0m: list indices must be integers or slices, not list"
     ]
    }
   ],
   "source": [
    "#print(reactions)\n",
    "#fluxes.head()\n",
    "#metabolites.head()\n",
    "#proteins.head()\n",
    "#define_models(reactions, model, candidates, flux, prot, metab)\n",
    "reaction = model.reactions[rxn_id]\n",
    "summary = pd.DataFrame({'idx':range(len(reactions)),'rxn_id':rxn_id})\n",
    "summary.set_index('idx')"
   ]
  },
  {
   "cell_type": "code",
   "execution_count": 214,
   "metadata": {
    "collapsed": false
   },
   "outputs": [
    {
     "data": {
      "text/html": [
       "<div>\n",
       "<table border=\"1\" class=\"dataframe\">\n",
       "  <thead>\n",
       "    <tr style=\"text-align: right;\">\n",
       "      <th></th>\n",
       "      <th>Acetate</th>\n",
       "      <th>Fructose</th>\n",
       "      <th>Galactose</th>\n",
       "      <th>Glucose</th>\n",
       "      <th>Glycerol</th>\n",
       "      <th>Gluconate</th>\n",
       "      <th>Pyruvate</th>\n",
       "      <th>Succinate</th>\n",
       "    </tr>\n",
       "  </thead>\n",
       "  <tbody>\n",
       "    <tr>\n",
       "      <th>6pgc</th>\n",
       "      <td>0.251072</td>\n",
       "      <td>0.108316</td>\n",
       "      <td>1.054000</td>\n",
       "      <td>0.640639</td>\n",
       "      <td>0.064434</td>\n",
       "      <td>2.133933</td>\n",
       "      <td>0.544383</td>\n",
       "      <td>0.231438</td>\n",
       "    </tr>\n",
       "    <tr>\n",
       "      <th>nadp</th>\n",
       "      <td>0.026331</td>\n",
       "      <td>0.019472</td>\n",
       "      <td>0.016806</td>\n",
       "      <td>0.025963</td>\n",
       "      <td>0.020280</td>\n",
       "      <td>0.015306</td>\n",
       "      <td>0.018352</td>\n",
       "      <td>0.025583</td>\n",
       "    </tr>\n",
       "  </tbody>\n",
       "</table>\n",
       "</div>"
      ],
      "text/plain": [
       "       Acetate  Fructose  Galactose   Glucose  Glycerol  Gluconate  Pyruvate  \\\n",
       "6pgc  0.251072  0.108316   1.054000  0.640639  0.064434   2.133933  0.544383   \n",
       "nadp  0.026331  0.019472   0.016806  0.025963  0.020280   0.015306  0.018352   \n",
       "\n",
       "      Succinate  \n",
       "6pgc   0.231438  \n",
       "nadp   0.025583  "
      ]
     },
     "execution_count": 214,
     "metadata": {},
     "output_type": "execute_result"
    }
   ],
   "source": [
    "react = model.reactions.get_by_id(rxn_id[0]).reactants\n",
    "react_df = []\n",
    "name = []\n",
    "for j in range(len(react)):\n",
    "    react_df.append(metabolites.loc[react[j].id[:-2]].values)\n",
    "    name.append(react[j].id[:-2])\n",
    "react_df = pd.DataFrame(react_df, columns = metabolites.columns, index = name)\n",
    "react_df"
   ]
  },
  {
   "cell_type": "code",
   "execution_count": 212,
   "metadata": {
    "collapsed": false
   },
   "outputs": [
    {
     "data": {
      "text/html": [
       "<div>\n",
       "<table border=\"1\" class=\"dataframe\">\n",
       "  <thead>\n",
       "    <tr style=\"text-align: right;\">\n",
       "      <th></th>\n",
       "      <th>acetate</th>\n",
       "      <th>fructose</th>\n",
       "      <th>galactose</th>\n",
       "      <th>glucose</th>\n",
       "      <th>glycerol</th>\n",
       "      <th>gluconate</th>\n",
       "      <th>pyruvate</th>\n",
       "      <th>succinate</th>\n",
       "    </tr>\n",
       "  </thead>\n",
       "  <tbody>\n",
       "    <tr>\n",
       "      <th>gnd</th>\n",
       "      <td>0.413766</td>\n",
       "      <td>0.455498</td>\n",
       "      <td>0.025602</td>\n",
       "      <td>0.899103</td>\n",
       "      <td>0.430087</td>\n",
       "      <td>0.706019</td>\n",
       "      <td>0.568221</td>\n",
       "      <td>0.480592</td>\n",
       "    </tr>\n",
       "  </tbody>\n",
       "</table>\n",
       "</div>"
      ],
      "text/plain": [
       "      acetate  fructose  galactose   glucose  glycerol  gluconate  pyruvate  \\\n",
       "gnd  0.413766  0.455498   0.025602  0.899103  0.430087   0.706019  0.568221   \n",
       "\n",
       "     succinate  \n",
       "gnd   0.480592  "
      ]
     },
     "execution_count": 212,
     "metadata": {},
     "output_type": "execute_result"
    }
   ],
   "source": [
    "enz = list(model.reactions.get_by_id(rxn_id[0]).genes)\n",
    "enz_df = []\n",
    "name = []\n",
    "for j in range(len(enz)):\n",
    "    gene = mapping[mapping[2]==enz[j].id][0].reset_index()\n",
    "    gene = list(mapping[(mapping[0]==gene[0][0]) & (mapping[1]=='Gene_Name')][2])\n",
    "    enz_df.append(proteins.loc[gene[0]].values)\n",
    "    name.append(gene)\n",
    "enz_df = pd.DataFrame(enz_df, columns = proteins.columns, index = name)\n",
    "enz_df"
   ]
  },
  {
   "cell_type": "code",
   "execution_count": 206,
   "metadata": {
    "collapsed": false
   },
   "outputs": [
    {
     "data": {
      "text/plain": [
       "array([ 0.25107182,  0.10831628,  1.0540002 ,  0.64063926,  0.06443408,\n",
       "        2.13393319,  0.54438293,  0.23143849])"
      ]
     },
     "execution_count": 206,
     "metadata": {},
     "output_type": "execute_result"
    }
   ],
   "source": [
    "metabolites.loc[react[j].id[:-2]].values"
   ]
  }
 ],
 "metadata": {
  "kernelspec": {
   "display_name": "Python 3",
   "language": "python",
   "name": "python3"
  },
  "language_info": {
   "codemirror_mode": {
    "name": "ipython",
    "version": 3
   },
   "file_extension": ".py",
   "mimetype": "text/x-python",
   "name": "python",
   "nbconvert_exporter": "python",
   "pygments_lexer": "ipython3",
   "version": "3.6.0"
  }
 },
 "nbformat": 4,
 "nbformat_minor": 2
}
